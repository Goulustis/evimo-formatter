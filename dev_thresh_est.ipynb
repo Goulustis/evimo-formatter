{
 "cells": [
  {
   "cell_type": "code",
   "execution_count": 105,
   "metadata": {},
   "outputs": [],
   "source": [
    "import numpy as np\n",
    "import os\n",
    "import os.path as osp\n",
    "import glob\n",
    "import matplotlib.pyplot as plt\n",
    "import torch\n",
    "from torch import nn\n",
    "from tqdm import tqdm\n",
    "import cv2\n",
    "\n",
    "from make_dataset_utils import get_data_dir\n",
    "from camera_utils import load_ts\n",
    "from ev_buffer import EventBuffer\n",
    "from eimg_maker import ev_to_eimg, eimg_to_img\n",
    "\n",
    "def get_paths():\n",
    "    scene = \"checkerboard_2_tilt_fb_000000\"\n",
    "    rgb_data_dir, evs_data_dir = get_data_dir(scene, \"rgb\"), get_data_dir(scene, \"evs\")\n",
    "\n",
    "    return rgb_data_dir, evs_data_dir\n",
    "\n",
    "rgb_data_dir, evs_data_dir = get_paths()\n",
    "\n",
    "reproj_npz_f = osp.join(evs_data_dir, \"dataset_reprojected_classical.npz\")\n",
    "reproj_npz = np.load(reproj_npz_f, allow_pickle=True)\n",
    "keys = list(reproj_npz.keys())\n",
    "rgb_keys = sorted([e for e in keys if not(\"mask\" in e)])\n",
    "msk_keys = sorted([e for e in keys if \"mask\" in e])\n",
    "frame_ts = reproj_npz[\"t\"]\n",
    "buffer = EventBuffer(evs_data_dir)"
   ]
  },
  {
   "cell_type": "code",
   "execution_count": 106,
   "metadata": {},
   "outputs": [],
   "source": [
    "idx = len(rgb_keys)//2\n",
    "get_img = lambda i : reproj_npz[rgb_keys[i]]\n",
    "get_msk = lambda i : reproj_npz[msk_keys[i]]\n",
    "\n",
    "prev_img, next_img = get_img(idx), get_img(idx + 1)\n",
    "prev_msk, next_msk = get_msk(idx), get_msk(idx + 1)\n",
    "msk = prev_msk & next_msk"
   ]
  },
  {
   "cell_type": "code",
   "execution_count": 107,
   "metadata": {},
   "outputs": [],
   "source": [
    "t_st, t_end = frame_ts[idx], frame_ts[idx+1]\n",
    "ts, xs, ys, ps = buffer.retrieve_data(t_st, t_end, is_far=True)\n",
    "eimg_img = eimg_to_img(ev_to_eimg(xs, ys, ps), col=False)"
   ]
  },
  {
   "cell_type": "code",
   "execution_count": 108,
   "metadata": {},
   "outputs": [
    {
     "data": {
      "text/plain": [
       "<matplotlib.image.AxesImage at 0x7ff20b68d0a0>"
      ]
     },
     "execution_count": 108,
     "metadata": {},
     "output_type": "execute_result"
    },
    {
     "data": {
      "image/png": "[encoded data removed]",
      "text/plain": [
       "<Figure size 640x480 with 1 Axes>"
      ]
     },
     "metadata": {},
     "output_type": "display_data"
    }
   ],
   "source": [
    "loc_msk = msk[ys, xs]\n",
    "x, y = xs[loc_msk], ys[loc_msk]\n",
    "\n",
    "msk_img = np.zeros((*msk.shape, 3)).astype(np.uint8)\n",
    "msk_img[prev_msk,0] = 255\n",
    "msk_img[next_msk,1] = 255\n",
    "plt.imshow(msk_img)"
   ]
  },
  {
   "cell_type": "code",
   "execution_count": 109,
   "metadata": {},
   "outputs": [],
   "source": [
    "## Coarse opt as described\n",
    "to_numpy = lambda x : x.detach().cpu().numpy()\n",
    "class CoarseEstimator(nn.Module):\n",
    "\n",
    "    def __init__(self, xs, ys, ps, prev_img, next_img, prev_msk, next_msk, n_iter = 10000, show_pbar=True):\n",
    "        \"\"\"\n",
    "        xs, ys, ps (np.array): events in between img_prev_t, img_next_t\n",
    "        img_prev, img_next (np.array): image of shape (h,w, *)\n",
    "        msk (np.array): mask of shape (h,w)\n",
    "        \"\"\"\n",
    "\n",
    "        super(CoarseEstimator, self).__init__()\n",
    "        self.EPS = 1e-6\n",
    "        self.n_iter = n_iter\n",
    "        self.show_bar = show_pbar\n",
    "        self.ori_xs, self.ori_ys, self.ori_ps = xs, ys, ps\n",
    "        self.ori_prev_img, self.ori_next_img = prev_img, next_img\n",
    "        self.prev_msk, self.next_msk = prev_msk, next_msk\n",
    "        self.msk = self.prev_msk & self.next_msk\n",
    "        self._apply_msk_to_all_ori_frame_data()\n",
    "        \n",
    "        \n",
    "        self._init_images(prev_img, next_img, msk)\n",
    "        self._init_events(xs, ys, ps, msk)\n",
    "        self._init_est_thresh(xs, ys, msk)\n",
    "    \n",
    "    def _apply_msk_to_all_ori_frame_data(self):\n",
    "        self.ori_prev_img = np.copy(self.ori_prev_img)\n",
    "        self.ori_next_img = np.copy(self.ori_next_img)\n",
    "\n",
    "        self.ori_prev_img[~self.msk] = 0\n",
    "        self.ori_next_img[~self.msk] = 0\n",
    "\n",
    "\n",
    "    def _init_est_thresh(self, xs=None, ys=None, ps=None):\n",
    "        self.pos_thresh = torch.nn.Parameter(torch.tensor([0.2]))\n",
    "        self.neg_thresh = torch.nn.Parameter(torch.tensor([0.2]))\n",
    "\n",
    "        self.opt = torch.optim.SGD([self.pos_thresh, self.neg_thresh], lr=1e-2)\n",
    "\n",
    "    def _format_img(self, img):\n",
    "        if len(img.shape) == 3:\n",
    "            img = (cv2.cvtColor(img.astype(np.uint8), cv2.COLOR_BGR2GRAY)/255)\n",
    "\n",
    "        return img\n",
    "    \n",
    "    def _init_images(self, prev_img, next_img, msk):\n",
    "        \n",
    "\n",
    "        self.prev_img = torch.from_numpy(self._format_img(prev_img)[msk]).float()\n",
    "        self.next_img = torch.from_numpy(self._format_img(next_img)[msk]).float()\n",
    "\n",
    "        self.prev_log, self.next_log = torch.log(self.prev_img + self.EPS), torch.log(self.next_img + self.EPS)\n",
    "\n",
    "\n",
    "    def _init_events(self, xs, ys, ps, msk):\n",
    "        self.coor_msk = msk[ys, xs]\n",
    "        xs, ys, ps = [e[self.coor_msk] for e in [xs, ys, ps]]\n",
    "        \n",
    "        pos_cond = ps == 1\n",
    "        neg_cond = ps == 0\n",
    "        self.np_pos_img = ev_to_eimg(xs[pos_cond], ys[pos_cond], ps[pos_cond])\n",
    "        self.np_neg_img = ev_to_eimg(xs[neg_cond], ys[neg_cond], ps[neg_cond])\n",
    "\n",
    "        self.np_pos_img[~self.msk] = 0\n",
    "        self.np_neg_img[~self.msk] = 0\n",
    "\n",
    "        self.pos_img = torch.from_numpy(self.np_pos_img[msk])\n",
    "        self.neg_img = torch.from_numpy(self.np_neg_img[msk])\n",
    "        self.n_evs = len(xs)\n",
    "\n",
    "    def estimate(self):\n",
    "        for step in tqdm(range(self.n_iter)):\n",
    "            self.opt.zero_grad()\n",
    "            pred_log = self.prev_log + self.pos_thresh*self.pos_img + self.neg_thresh*self.neg_img\n",
    "            loss = ((pred_log - self.next_log)**2).sum()/self.n_evs\n",
    "            loss.backward()\n",
    "            self.opt.step()\n",
    "            \n",
    "            if step%5000 == 0:\n",
    "                # pbar.set_description(f\"loss:{loss.detach().cpu().item()}\")\n",
    "                print(\"loss:\", loss.detach().cpu().item())\n",
    "\n",
    "    def validate(self):\n",
    "        pos_thresh, neg_thresh = to_numpy(self.pos_thresh), to_numpy(self.neg_thresh)\n",
    "        pred_log = np.log(self._format_img(self.ori_prev_img) + self.EPS) + pos_thresh*self.np_pos_img + neg_thresh * self.np_neg_img\n",
    "        pred_img = np.exp(pred_log)\n",
    "        pred_err = np.abs(pred_img - self._format_img(self.ori_next_img)).mean()\n",
    "        base_err = np.abs(self._format_img(self.ori_prev_img) - self._format_img(self.ori_next_img)).mean()\n",
    "\n",
    "        print(f\"base err: {base_err}, pred err: {pred_err}\")\n",
    "\n"
   ]
  },
  {
   "cell_type": "code",
   "execution_count": 110,
   "metadata": {},
   "outputs": [
    {
     "name": "stderr",
     "output_type": "stream",
     "text": [
      "  7%|▋         | 731/10000 [00:00<00:02, 3651.55it/s]"
     ]
    },
    {
     "name": "stdout",
     "output_type": "stream",
     "text": [
      "loss: 0.5056347250938416\n"
     ]
    },
    {
     "name": "stderr",
     "output_type": "stream",
     "text": [
      " 55%|█████▍    | 5483/10000 [00:01<00:01, 3651.15it/s]"
     ]
    },
    {
     "name": "stdout",
     "output_type": "stream",
     "text": [
      "loss: 0.49605002999305725\n"
     ]
    },
    {
     "name": "stderr",
     "output_type": "stream",
     "text": [
      "100%|██████████| 10000/10000 [00:02<00:00, 3655.13it/s]\n"
     ]
    }
   ],
   "source": [
    "est = CoarseEstimator(xs, ys, ps, prev_img, next_img, prev_msk, next_msk)\n",
    "est.estimate()"
   ]
  },
  {
   "cell_type": "code",
   "execution_count": 111,
   "metadata": {},
   "outputs": [
    {
     "name": "stdout",
     "output_type": "stream",
     "text": [
      "base err: 0.01938420394199346, pred err: 0.01635489448873003\n"
     ]
    }
   ],
   "source": [
    "est.validate()"
   ]
  },
  {
   "cell_type": "code",
   "execution_count": null,
   "metadata": {},
   "outputs": [],
   "source": []
  }
 ],
 "metadata": {
  "kernelspec": {
   "display_name": "Python 3.8.17 ('ecam_proc')",
   "language": "python",
   "name": "python3"
  },
  "language_info": {
   "codemirror_mode": {
    "name": "ipython",
    "version": 3
   },
   "file_extension": ".py",
   "mimetype": "text/x-python",
   "name": "python",
   "nbconvert_exporter": "python",
   "pygments_lexer": "ipython3",
   "version": "3.8.17"
  },
  "orig_nbformat": 4,
  "vscode": {
   "interpreter": {
    "hash": "1399cc93a997c95da4941f9cd47fdb32913752b697de619a39b6e0cdf96e71f7"
   }
  }
 },
 "nbformat": 4,
 "nbformat_minor": 2
}
